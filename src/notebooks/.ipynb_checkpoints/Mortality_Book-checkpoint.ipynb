{
 "cells": [
  {
   "cell_type": "markdown",
   "id": "28688a34-41e9-42da-8a21-614b5316e57f",
   "metadata": {},
   "source": [
    "# Heart Failure Mortality Predicion"
   ]
  },
  {
   "cell_type": "markdown",
   "id": "5c3c923b-3e71-4447-b101-b848eec03bf9",
   "metadata": {},
   "source": [
    "The following dataset contains 23 attributes monitored in hospitals for patients with heart failure issues.  \n",
    "The target variable is *Mortality* which is tagged as 0/1 i.e *Died= 0 and Alive= 1*  \n",
    "Since this problem is a binary classification, we will be using binary classifiers  "
   ]
  },
  {
   "cell_type": "code",
   "execution_count": 35,
   "id": "2d74c71a-1312-483f-b030-50cd53be50db",
   "metadata": {},
   "outputs": [],
   "source": [
    "## Importing all the necessary modules\n",
    "### General Packages\n",
    "import numpy as np\n",
    "import pandas as pd\n",
    "import pandas_profiling as pp\n",
    "from skimpy import clean_columns\n",
    "from collections import Counter\n",
    "import joblib as jb\n",
    "\n",
    "### Plotting packages\n",
    "import matplotlib.pyplot as plt\n",
    "import seaborn as sns\n",
    "%matplotlib inline\n",
    "\n",
    "### Machine Learning Packages\n",
    "from statsmodels.stats.outliers_influence import variance_inflation_factor\n",
    "from sklearn.feature_selection import RFECV\n",
    "from sklearn.model_selection import train_test_split,RandomizedSearchCV\n",
    "from sklearn.preprocessing import LabelEncoder\n",
    "from sklearn.tree import DecisionTreeClassifier\n",
    "from sklearn.ensemble import RandomForestClassifier,AdaBoostClassifier\n",
    "from imblearn.over_sampling import ADASYN\n",
    "from sklearn.metrics import confusion_matrix,accuracy_score,precision_score,recall_score,plot_roc_curve,plot_confusion_matrix\n",
    "from sklearn.inspection import permutation_importance"
   ]
  },
  {
   "cell_type": "markdown",
   "id": "09183b5f-6000-4bdb-886b-d8250a0319f4",
   "metadata": {},
   "source": [
    "## Step-1 : Load the dataset"
   ]
  },
  {
   "cell_type": "code",
   "execution_count": 2,
   "id": "b0fabe0d-9f43-4608-81f9-c78bea64ec00",
   "metadata": {},
   "outputs": [
    {
     "data": {
      "text/plain": [
       "(368, 23)"
      ]
     },
     "execution_count": 2,
     "metadata": {},
     "output_type": "execute_result"
    }
   ],
   "source": [
    "mortality_data = pd.read_csv(\"../../data/Mortality_dataset.csv\")\n",
    "mortality_data.shape"
   ]
  },
  {
   "cell_type": "code",
   "execution_count": 3,
   "id": "015b3ed9-73c5-492c-8f3e-6dc2d77e4873",
   "metadata": {},
   "outputs": [
    {
     "name": "stdout",
     "output_type": "stream",
     "text": [
      "<class 'pandas.core.frame.DataFrame'>\n",
      "RangeIndex: 368 entries, 0 to 367\n",
      "Data columns (total 23 columns):\n",
      " #   Column                                                                                    Non-Null Count  Dtype  \n",
      "---  ------                                                                                    --------------  -----  \n",
      " 0   ID                                                                                        368 non-null    int64  \n",
      " 1   Age                                                                                       368 non-null    int64  \n",
      " 2   Gender                                                                                    368 non-null    object \n",
      " 3   Locality                                                                                  368 non-null    object \n",
      " 4   Marital status                                                                            368 non-null    object \n",
      " 5   Life.Style                                                                                368 non-null    object \n",
      " 6   Sleep                                                                                     368 non-null    object \n",
      " 7   Depression                                                                                368 non-null    object \n",
      " 8   Smoking                                                                                   368 non-null    object \n",
      " 9   Family.History                                                                            368 non-null    object \n",
      " 10  Diabetes                                                                                  368 non-null    int64  \n",
      " 11  BP                                                                                        368 non-null    float64\n",
      " 12  ESR                                                                                       368 non-null    int64  \n",
      " 13  WBC                                                                                       368 non-null    int64  \n",
      " 14  RBC                                                                                       368 non-null    float64\n",
      " 15  Hemoglobin                                                                                368 non-null    float64\n",
      " 16  PLATELET_COUNT                                                                            368 non-null    int64  \n",
      " 17  Others                                                                                    368 non-null    object \n",
      " 18  CO                                                                                        368 non-null    object \n",
      " 19  Diagnosis                                                                                 368 non-null    object \n",
      " 20  chol                                                                                      368 non-null    int64  \n",
      " 21  Mortality                                                                                 368 non-null    int64  \n",
      " 22  Follow.Up                                                                                 368 non-null    int64  \n",
      "dtypes: float64(3), int64(9), object(11)\n",
      "memory usage: 66.2+ KB\n"
     ]
    }
   ],
   "source": [
    "## Lets check the basic data distribution\n",
    "mortality_data.info()"
   ]
  },
  {
   "cell_type": "markdown",
   "id": "e8d7efec-3afe-41cc-a107-ca0230b3b14d",
   "metadata": {},
   "source": [
    "##### Inference : All the data is cleaned and devoid of null (NA) values  \n",
    "##### Next steps include distribution overview in form of reports"
   ]
  },
  {
   "cell_type": "code",
   "execution_count": 5,
   "id": "f2f81697-8a79-48f4-9a2d-fe157801e1a2",
   "metadata": {},
   "outputs": [
    {
     "data": {
      "text/html": [
       "<pre style=\"white-space:pre;overflow-x:auto;line-height:normal;font-family:Menlo,'DejaVu Sans Mono',consolas,'Courier New',monospace\"><span style=\"color: #008080; text-decoration-color: #008080; font-weight: bold\">0</span> column names have been cleaned\n",
       "</pre>\n"
      ],
      "text/plain": [
       "\u001b[1;36m0\u001b[0m column names have been cleaned\n"
      ]
     },
     "metadata": {},
     "output_type": "display_data"
    }
   ],
   "source": [
    "## Cleaning out the column names with standard snake-case, due to massive irregularity\n",
    "mortality_data = clean_columns(mortality_data)"
   ]
  },
  {
   "cell_type": "code",
   "execution_count": 6,
   "id": "371bad03-e413-46f6-94cb-3c5bbc0ab433",
   "metadata": {},
   "outputs": [
    {
     "data": {
      "text/plain": [
       "Index(['id', 'age', 'gender', 'locality', 'marital_status', 'life_style',\n",
       "       'sleep', 'depression', 'smoking', 'family_history', 'diabetes', 'bp',\n",
       "       'esr', 'wbc', 'rbc', 'hemoglobin', 'platelet_count', 'others', 'co',\n",
       "       'diagnosis', 'chol', 'mortality', 'follow_up'],\n",
       "      dtype='object')"
      ]
     },
     "execution_count": 6,
     "metadata": {},
     "output_type": "execute_result"
    }
   ],
   "source": [
    "mortality_data.columns"
   ]
  },
  {
   "cell_type": "markdown",
   "id": "1a18caa2-58e9-427f-9b82-c3bac16690a6",
   "metadata": {},
   "source": [
    "## Step-2a : Generate a preview report for the data distribution"
   ]
  },
  {
   "cell_type": "markdown",
   "id": "0c7df565-9ad8-4b9a-91c9-68719f135a17",
   "metadata": {},
   "source": [
    "#### Using Pandas-Profiling for such scenario"
   ]
  },
  {
   "cell_type": "code",
   "execution_count": 7,
   "id": "4afdcad1-faed-46f3-b660-10b7f0b6aa04",
   "metadata": {},
   "outputs": [
    {
     "data": {
      "application/vnd.jupyter.widget-view+json": {
       "model_id": "ce843e57252041fe84aa81c3da1757ed",
       "version_major": 2,
       "version_minor": 0
      },
      "text/plain": [
       "Summarize dataset:   0%|          | 0/5 [00:00<?, ?it/s]"
      ]
     },
     "metadata": {},
     "output_type": "display_data"
    },
    {
     "name": "stderr",
     "output_type": "stream",
     "text": [
      "C:\\Users\\nabar\\AppData\\Roaming\\Python\\Python39\\site-packages\\pandas_profiling\\model\\pandas\\discretize_pandas.py:52: FutureWarning: In a future version, `df.iloc[:, i] = newvals` will attempt to set the values inplace instead of always setting a new array. To retain the old behavior, use either `df[df.columns[i]] = newvals` or, if columns are non-unique, `df.isetitem(i, newvals)`\n",
      "  discretized_df.loc[:, column] = self._discretize_column(\n"
     ]
    },
    {
     "data": {
      "application/vnd.jupyter.widget-view+json": {
       "model_id": "21b951a626624d52b7500299e275be6e",
       "version_major": 2,
       "version_minor": 0
      },
      "text/plain": [
       "Generate report structure:   0%|          | 0/1 [00:00<?, ?it/s]"
      ]
     },
     "metadata": {},
     "output_type": "display_data"
    },
    {
     "data": {
      "application/vnd.jupyter.widget-view+json": {
       "model_id": "b816cbe28ad14bf69fb9f1e727d39d12",
       "version_major": 2,
       "version_minor": 0
      },
      "text/plain": [
       "Render HTML:   0%|          | 0/1 [00:00<?, ?it/s]"
      ]
     },
     "metadata": {},
     "output_type": "display_data"
    },
    {
     "data": {
      "application/vnd.jupyter.widget-view+json": {
       "model_id": "0926bc16e2b94c008c863304c41dad03",
       "version_major": 2,
       "version_minor": 0
      },
      "text/plain": [
       "Export report to file:   0%|          | 0/1 [00:00<?, ?it/s]"
      ]
     },
     "metadata": {},
     "output_type": "display_data"
    }
   ],
   "source": [
    "profile = pp.ProfileReport(mortality_data)\n",
    "profile.to_file(\"mortality_feature_report.html\")"
   ]
  },
  {
   "cell_type": "markdown",
   "id": "fd2fd7d9-5822-4bda-ae5f-ddb76027aff7",
   "metadata": {},
   "source": [
    "##### Inference : \n",
    "1. From the \"mortality_feature_report.html\" Report we can figure out the correlation heatmap as well as the univariate analysis\n",
    "2. Columns like Marital status,Depression,Gender,Locality,Family History as well as the Target Variable \"Mortality\" are highly imbalance"
   ]
  },
  {
   "cell_type": "code",
   "execution_count": null,
   "id": "0255b70a-a09e-4fa2-b7dd-916808d1f122",
   "metadata": {},
   "outputs": [],
   "source": []
  },
  {
   "cell_type": "markdown",
   "id": "696b49d6-07ba-4ab8-804e-b162b9875ec5",
   "metadata": {},
   "source": [
    "## Step-3a : Splitting the data into X & Y"
   ]
  },
  {
   "cell_type": "code",
   "execution_count": 8,
   "id": "718669fc-a7e1-4510-9711-f94ab05a9980",
   "metadata": {},
   "outputs": [],
   "source": [
    "X = mortality_data.drop(columns=[\"mortality\"])\n",
    "y = mortality_data[\"mortality\"]"
   ]
  },
  {
   "cell_type": "markdown",
   "id": "30c61e43-d157-4a6d-a046-d6414a986431",
   "metadata": {},
   "source": [
    "## Step-3b : Run Feature Encoding operation"
   ]
  },
  {
   "cell_type": "code",
   "execution_count": 9,
   "id": "0cfccc04-738a-49c6-bbed-785014c73439",
   "metadata": {},
   "outputs": [],
   "source": [
    "## figure out the variables that are categorical\n",
    "cat_cols = list(X.select_dtypes(include=['object']).columns)"
   ]
  },
  {
   "cell_type": "code",
   "execution_count": 10,
   "id": "a3215250-589e-4abd-86b5-04e799107c87",
   "metadata": {},
   "outputs": [],
   "source": [
    "## Copy and preserve the main dataframe\n",
    "X_encoded = X.copy()\n",
    "\n",
    "## Instantiate an encoder\n",
    "encoder = LabelEncoder()\n",
    "\n",
    "X_encoded[cat_cols] = X_encoded[cat_cols].apply(encoder.fit_transform)"
   ]
  },
  {
   "cell_type": "code",
   "execution_count": null,
   "id": "6e8a96ef-036d-45ab-9240-1df477ecb37b",
   "metadata": {},
   "outputs": [],
   "source": []
  },
  {
   "cell_type": "markdown",
   "id": "e394e1e7-1630-4463-9495-321568cfe371",
   "metadata": {},
   "source": [
    "## Step-3c : Run Feature Selection techniques"
   ]
  },
  {
   "cell_type": "markdown",
   "id": "a2f7b3ec-3fc5-4c05-b2b5-1f67363dce9a",
   "metadata": {},
   "source": [
    "### Correlation check"
   ]
  },
  {
   "cell_type": "code",
   "execution_count": 12,
   "id": "91ae40b8-bb4f-4f70-ae26-2363758d9fb1",
   "metadata": {},
   "outputs": [
    {
     "data": {
      "text/plain": [
       "<AxesSubplot:>"
      ]
     },
     "execution_count": 12,
     "metadata": {},
     "output_type": "execute_result"
    },
    {
     "data": {
      "image/png": "[encoded data removed]",
      "text/plain": [
       "<Figure size 640x480 with 2 Axes>"
      ]
     },
     "metadata": {},
     "output_type": "display_data"
    }
   ],
   "source": [
    "sns.heatmap(X_encoded.corr(),linewidths=1.5,cmap='BuGn')"
   ]
  },
  {
   "cell_type": "code",
   "execution_count": null,
   "id": "f2371002-ea59-4d94-88b7-b1fa3c100ee7",
   "metadata": {},
   "outputs": [],
   "source": []
  },
  {
   "cell_type": "markdown",
   "id": "4c11189e-40f4-48a8-ab17-f08ece9ac2f5",
   "metadata": {},
   "source": [
    "### RFE Check"
   ]
  },
  {
   "cell_type": "code",
   "execution_count": 13,
   "id": "808c1207-f02e-4a24-96b3-5e0a302056bb",
   "metadata": {},
   "outputs": [
    {
     "name": "stdout",
     "output_type": "stream",
     "text": [
      "===== Selected features as per information Gain =====\n"
     ]
    },
    {
     "data": {
      "text/plain": [
       "[('age', True, 1),\n",
       " ('gender', True, 1),\n",
       " ('locality', False, 3),\n",
       " ('marital_status', False, 3),\n",
       " ('life_style', False, 3),\n",
       " ('sleep', False, 3),\n",
       " ('depression', False, 2),\n",
       " ('smoking', True, 1),\n",
       " ('family_history', False, 2),\n",
       " ('diabetes', False, 2),\n",
       " ('bp', False, 3),\n",
       " ('esr', False, 2),\n",
       " ('wbc', False, 2),\n",
       " ('rbc', True, 1),\n",
       " ('hemoglobin', True, 1),\n",
       " ('platelet_count', True, 1),\n",
       " ('others', True, 1),\n",
       " ('co', True, 1),\n",
       " ('diagnosis', True, 1),\n",
       " ('chol', True, 1),\n",
       " ('follow_up', True, 1)]"
      ]
     },
     "execution_count": 13,
     "metadata": {},
     "output_type": "execute_result"
    }
   ],
   "source": [
    "## Since the data is very non linear in nature, assigin a small tree algo for feature elimination\n",
    "dt = DecisionTreeClassifier()\n",
    "\n",
    "selector = RFECV(dt,step=5,cv=20)\n",
    "selector = selector.fit(X_encoded.drop(columns=\"id\"), y)\n",
    "\n",
    "print(\"===== Selected features as per information Gain =====\")\n",
    "list(zip(X_encoded.drop(columns=\"id\").columns,selector.support_,selector.ranking_))"
   ]
  },
  {
   "cell_type": "code",
   "execution_count": null,
   "id": "d0b42da1-b100-4bbf-9c7c-4915fe200b9b",
   "metadata": {},
   "outputs": [],
   "source": []
  },
  {
   "cell_type": "markdown",
   "id": "e688b1eb-87fb-43e5-9074-c87c9b0e61b0",
   "metadata": {},
   "source": [
    "##### Inference:\n",
    "1. RBC is highly correlated with Hemoglobin ==> Keeping RBC (as we all know that RBC is the main content of Haemoglobin)\n",
    "2. Locality is highly correlated with Lifestyle ==> Keeping Locality (Lifestyle being only true and false doesnt give much info)\n",
    "3. Sleep is highly correlated with depression ==> Keeping Sleep (as depression is also hihgly imbalance)"
   ]
  },
  {
   "cell_type": "code",
   "execution_count": null,
   "id": "c72a45af-dce5-4008-ad9f-9daf1aa7d051",
   "metadata": {},
   "outputs": [],
   "source": []
  },
  {
   "cell_type": "markdown",
   "id": "b3bac0ba-1540-4f1e-8b15-fe7c790464e8",
   "metadata": {},
   "source": [
    "## Step-3d : Feature Finalization & Validation"
   ]
  },
  {
   "cell_type": "code",
   "execution_count": 14,
   "id": "a61857b1-5ca3-4975-83a0-78e98fc85a50",
   "metadata": {},
   "outputs": [
    {
     "name": "stdout",
     "output_type": "stream",
     "text": [
      " === Data Shape before dropping ===  (368, 22)\n",
      " === Data Shape after dropping ===  (368, 19)\n"
     ]
    }
   ],
   "source": [
    "### Dropping the columns as discussed earlier\n",
    "print(\" === Data Shape before dropping === \",X_encoded.shape)\n",
    "X_final = X_encoded.drop(columns=['hemoglobin','life_style','depression'])\n",
    "print(\" === Data Shape after dropping === \",X_final.shape)"
   ]
  },
  {
   "cell_type": "code",
   "execution_count": null,
   "id": "aed3f1c4-c3cb-44c9-ad39-f82039a8bf0d",
   "metadata": {},
   "outputs": [],
   "source": []
  },
  {
   "cell_type": "markdown",
   "id": "b645dc47-673b-41c6-a224-185806677209",
   "metadata": {},
   "source": [
    "## Step-3e : Handling Class Imbalance"
   ]
  },
  {
   "cell_type": "code",
   "execution_count": 15,
   "id": "58beadb6-923a-46fb-a3b9-d552724959b5",
   "metadata": {},
   "outputs": [
    {
     "name": "stdout",
     "output_type": "stream",
     "text": [
      "Original dataset shape Counter({0: 288, 1: 80})\n",
      "Resampled dataset shape Counter({0: 288, 1: 281})\n"
     ]
    }
   ],
   "source": [
    "### Using Adasyn for its high performance data reproduction\n",
    "print('Original dataset shape %s' % Counter(y))\n",
    "\n",
    "ada = ADASYN(random_state=42)\n",
    "X_res, y_res = ada.fit_resample(X_final.drop(columns=[\"id\"]), y)\n",
    "\n",
    "print('Resampled dataset shape %s' % Counter(y_res))"
   ]
  },
  {
   "cell_type": "code",
   "execution_count": null,
   "id": "e8bdf923-2bd6-4ffb-a98b-fc8b1faaf0b5",
   "metadata": {},
   "outputs": [],
   "source": []
  },
  {
   "cell_type": "markdown",
   "id": "798a9968-ea2e-4720-8686-39619eb3b94f",
   "metadata": {},
   "source": [
    "## Step-4a : Splitting the data into train test module"
   ]
  },
  {
   "cell_type": "code",
   "execution_count": 16,
   "id": "f50144a2-e890-4ce9-8831-14df8b7194c5",
   "metadata": {},
   "outputs": [],
   "source": [
    "X_train, X_test, y_train, y_test = train_test_split(X_res, y_res, test_size=0.33, random_state=42)"
   ]
  },
  {
   "cell_type": "code",
   "execution_count": 17,
   "id": "bda61e16-3a36-44af-b5da-59941ff9d231",
   "metadata": {},
   "outputs": [
    {
     "name": "stdout",
     "output_type": "stream",
     "text": [
      "=== length of the train data === Counter({0: 201, 1: 180})\n",
      "=== length of the test data === Counter({1: 101, 0: 87})\n"
     ]
    }
   ],
   "source": [
    "print(\"=== length of the train data ===\",Counter(y_train))\n",
    "print(\"=== length of the test data ===\",Counter(y_test))"
   ]
  },
  {
   "cell_type": "markdown",
   "id": "5b605f6d-8d72-4db7-9d70-3e75fdc9177b",
   "metadata": {},
   "source": [
    "## Step-4b : Building the ML Model"
   ]
  },
  {
   "cell_type": "markdown",
   "id": "7c54c147-0997-4be5-bb83-b435b9090d38",
   "metadata": {},
   "source": [
    "### Decision trees"
   ]
  },
  {
   "cell_type": "code",
   "execution_count": 18,
   "id": "49735fdd-2377-4102-add7-e32f78c16a8f",
   "metadata": {},
   "outputs": [
    {
     "name": "stdout",
     "output_type": "stream",
     "text": [
      "===== METRIC OUTPUT =====\n",
      "confusion_matrix ==> [[201   0]\n",
      " [  0 180]]\n",
      "accuracy_score ==> 1.0\n",
      "precision_score ==> 1.0\n",
      "recall_score ==> 1.0\n"
     ]
    }
   ],
   "source": [
    "## For training aspect\n",
    "dt_default = DecisionTreeClassifier()\n",
    "\n",
    "dt_default.fit(X_train,y_train)\n",
    "train_preds = dt_default.predict(X_train)\n",
    "\n",
    "print(\"===== METRIC OUTPUT =====\")\n",
    "print(\"confusion_matrix ==>\",confusion_matrix(y_train,train_preds))\n",
    "print(\"accuracy_score ==>\",accuracy_score(y_train,train_preds))\n",
    "print(\"precision_score ==>\",precision_score(y_train,train_preds))\n",
    "print(\"recall_score ==>\",recall_score(y_train,train_preds))"
   ]
  },
  {
   "cell_type": "code",
   "execution_count": 19,
   "id": "e3c16fc2-3eeb-4fc4-9159-b33849ba2876",
   "metadata": {},
   "outputs": [
    {
     "name": "stdout",
     "output_type": "stream",
     "text": [
      "===== METRIC OUTPUT =====\n",
      "confusion_matrix ==> [[84  3]\n",
      " [ 2 99]]\n",
      "accuracy_score ==> 0.973404255319149\n",
      "precision_score ==> 0.9705882352941176\n",
      "recall_score ==> 0.9801980198019802\n"
     ]
    }
   ],
   "source": [
    "## For Testing aspect\n",
    "test_preds = dt_default.predict(X_test)\n",
    "\n",
    "print(\"===== METRIC OUTPUT =====\")\n",
    "print(\"confusion_matrix ==>\",confusion_matrix(y_test,test_preds))\n",
    "print(\"accuracy_score ==>\",accuracy_score(y_test,test_preds))\n",
    "print(\"precision_score ==>\",precision_score(y_test,test_preds))\n",
    "print(\"recall_score ==>\",recall_score(y_test,test_preds))"
   ]
  },
  {
   "cell_type": "markdown",
   "id": "4e3f602d-b3af-4e68-947e-e3222d2681e2",
   "metadata": {},
   "source": [
    "##### Inference:\n",
    "1. Model looks like a perfect fit..\n",
    "\n",
    "OR is it overfit?\n",
    "Lets try out a Hyperparameter tuned DT"
   ]
  },
  {
   "cell_type": "markdown",
   "id": "e568b80b-d495-4062-ab30-26b3630bac5c",
   "metadata": {},
   "source": [
    "### Decision trees w/ Hyp. Param Tuned"
   ]
  },
  {
   "cell_type": "code",
   "execution_count": 41,
   "id": "e41acdbe-e6b7-4ac7-837a-5b6829e68189",
   "metadata": {},
   "outputs": [
    {
     "name": "stdout",
     "output_type": "stream",
     "text": [
      "===== METRIC OUTPUT =====\n",
      "confusion_matrix ==> [[201   0]\n",
      " [  0 180]]\n",
      "accuracy_score ==> 1.0\n",
      "precision_score ==> 1.0\n",
      "recall_score ==> 1.0\n"
     ]
    }
   ],
   "source": [
    "## For training aspect\n",
    "dt_default = DecisionTreeClassifier()\n",
    "\n",
    "search = RandomizedSearchCV(dt_default,param_distributions={'criterion':['gini','entropy'],'splitter' : [\"best\", \"random\"],'min_samples_split':range(2,20,2)})\n",
    "\n",
    "search.fit(X_train,y_train)\n",
    "train_preds = search.best_estimator_.predict(X_train)\n",
    "\n",
    "print(\"===== METRIC OUTPUT =====\")\n",
    "print(\"confusion_matrix ==>\",confusion_matrix(y_train,train_preds))\n",
    "print(\"accuracy_score ==>\",accuracy_score(y_train,train_preds))\n",
    "print(\"precision_score ==>\",precision_score(y_train,train_preds))\n",
    "print(\"recall_score ==>\",recall_score(y_train,train_preds))"
   ]
  },
  {
   "cell_type": "code",
   "execution_count": 42,
   "id": "f85e96da-b2d8-4fd4-b51e-9def372a24f9",
   "metadata": {},
   "outputs": [
    {
     "name": "stdout",
     "output_type": "stream",
     "text": [
      "===== METRIC OUTPUT =====\n",
      "confusion_matrix ==> [[84  3]\n",
      " [ 2 99]]\n",
      "accuracy_score ==> 0.973404255319149\n",
      "precision_score ==> 0.9705882352941176\n",
      "recall_score ==> 0.9801980198019802\n"
     ]
    }
   ],
   "source": [
    "## For Testing aspect\n",
    "test_preds = search.best_estimator_.predict(X_test)\n",
    "\n",
    "print(\"===== METRIC OUTPUT =====\")\n",
    "print(\"confusion_matrix ==>\",confusion_matrix(y_test,test_preds))\n",
    "print(\"accuracy_score ==>\",accuracy_score(y_test,test_preds))\n",
    "print(\"precision_score ==>\",precision_score(y_test,test_preds))\n",
    "print(\"recall_score ==>\",recall_score(y_test,test_preds))"
   ]
  },
  {
   "cell_type": "code",
   "execution_count": 43,
   "id": "0ee43dcf-580e-4f72-9405-60a976c9dc37",
   "metadata": {},
   "outputs": [
    {
     "data": {
      "text/html": [
       "<style>#sk-container-id-4 {color: black;background-color: white;}#sk-container-id-4 pre{padding: 0;}#sk-container-id-4 div.sk-toggleable {background-color: white;}#sk-container-id-4 label.sk-toggleable__label {cursor: pointer;display: block;width: 100%;margin-bottom: 0;padding: 0.3em;box-sizing: border-box;text-align: center;}#sk-container-id-4 label.sk-toggleable__label-arrow:before {content: \"▸\";float: left;margin-right: 0.25em;color: #696969;}#sk-container-id-4 label.sk-toggleable__label-arrow:hover:before {color: black;}#sk-container-id-4 div.sk-estimator:hover label.sk-toggleable__label-arrow:before {color: black;}#sk-container-id-4 div.sk-toggleable__content {max-height: 0;max-width: 0;overflow: hidden;text-align: left;background-color: #f0f8ff;}#sk-container-id-4 div.sk-toggleable__content pre {margin: 0.2em;color: black;border-radius: 0.25em;background-color: #f0f8ff;}#sk-container-id-4 input.sk-toggleable__control:checked~div.sk-toggleable__content {max-height: 200px;max-width: 100%;overflow: auto;}#sk-container-id-4 input.sk-toggleable__control:checked~label.sk-toggleable__label-arrow:before {content: \"▾\";}#sk-container-id-4 div.sk-estimator input.sk-toggleable__control:checked~label.sk-toggleable__label {background-color: #d4ebff;}#sk-container-id-4 div.sk-label input.sk-toggleable__control:checked~label.sk-toggleable__label {background-color: #d4ebff;}#sk-container-id-4 input.sk-hidden--visually {border: 0;clip: rect(1px 1px 1px 1px);clip: rect(1px, 1px, 1px, 1px);height: 1px;margin: -1px;overflow: hidden;padding: 0;position: absolute;width: 1px;}#sk-container-id-4 div.sk-estimator {font-family: monospace;background-color: #f0f8ff;border: 1px dotted black;border-radius: 0.25em;box-sizing: border-box;margin-bottom: 0.5em;}#sk-container-id-4 div.sk-estimator:hover {background-color: #d4ebff;}#sk-container-id-4 div.sk-parallel-item::after {content: \"\";width: 100%;border-bottom: 1px solid gray;flex-grow: 1;}#sk-container-id-4 div.sk-label:hover label.sk-toggleable__label {background-color: #d4ebff;}#sk-container-id-4 div.sk-serial::before {content: \"\";position: absolute;border-left: 1px solid gray;box-sizing: border-box;top: 0;bottom: 0;left: 50%;z-index: 0;}#sk-container-id-4 div.sk-serial {display: flex;flex-direction: column;align-items: center;background-color: white;padding-right: 0.2em;padding-left: 0.2em;position: relative;}#sk-container-id-4 div.sk-item {position: relative;z-index: 1;}#sk-container-id-4 div.sk-parallel {display: flex;align-items: stretch;justify-content: center;background-color: white;position: relative;}#sk-container-id-4 div.sk-item::before, #sk-container-id-4 div.sk-parallel-item::before {content: \"\";position: absolute;border-left: 1px solid gray;box-sizing: border-box;top: 0;bottom: 0;left: 50%;z-index: -1;}#sk-container-id-4 div.sk-parallel-item {display: flex;flex-direction: column;z-index: 1;position: relative;background-color: white;}#sk-container-id-4 div.sk-parallel-item:first-child::after {align-self: flex-end;width: 50%;}#sk-container-id-4 div.sk-parallel-item:last-child::after {align-self: flex-start;width: 50%;}#sk-container-id-4 div.sk-parallel-item:only-child::after {width: 0;}#sk-container-id-4 div.sk-dashed-wrapped {border: 1px dashed gray;margin: 0 0.4em 0.5em 0.4em;box-sizing: border-box;padding-bottom: 0.4em;background-color: white;}#sk-container-id-4 div.sk-label label {font-family: monospace;font-weight: bold;display: inline-block;line-height: 1.2em;}#sk-container-id-4 div.sk-label-container {text-align: center;}#sk-container-id-4 div.sk-container {/* jupyter's `normalize.less` sets `[hidden] { display: none; }` but bootstrap.min.css set `[hidden] { display: none !important; }` so we also need the `!important` here to be able to override the default hidden behavior on the sphinx rendered scikit-learn.org. See: https://github.com/scikit-learn/scikit-learn/issues/21755 */display: inline-block !important;position: relative;}#sk-container-id-4 div.sk-text-repr-fallback {display: none;}</style><div id=\"sk-container-id-4\" class=\"sk-top-container\"><div class=\"sk-text-repr-fallback\"><pre>DecisionTreeClassifier(criterion=&#x27;entropy&#x27;, min_samples_split=6)</pre><b>In a Jupyter environment, please rerun this cell to show the HTML representation or trust the notebook. <br />On GitHub, the HTML representation is unable to render, please try loading this page with nbviewer.org.</b></div><div class=\"sk-container\" hidden><div class=\"sk-item\"><div class=\"sk-estimator sk-toggleable\"><input class=\"sk-toggleable__control sk-hidden--visually\" id=\"sk-estimator-id-4\" type=\"checkbox\" checked><label for=\"sk-estimator-id-4\" class=\"sk-toggleable__label sk-toggleable__label-arrow\">DecisionTreeClassifier</label><div class=\"sk-toggleable__content\"><pre>DecisionTreeClassifier(criterion=&#x27;entropy&#x27;, min_samples_split=6)</pre></div></div></div></div></div>"
      ],
      "text/plain": [
       "DecisionTreeClassifier(criterion='entropy', min_samples_split=6)"
      ]
     },
     "execution_count": 43,
     "metadata": {},
     "output_type": "execute_result"
    }
   ],
   "source": [
    "search.best_estimator_"
   ]
  },
  {
   "cell_type": "code",
   "execution_count": 44,
   "id": "9a4c5b83-9ad2-4fe3-bf13-dba02be98cfd",
   "metadata": {},
   "outputs": [
    {
     "name": "stdout",
     "output_type": "stream",
     "text": [
      "Plot for the Confusion metrics\n"
     ]
    },
    {
     "name": "stderr",
     "output_type": "stream",
     "text": [
      "C:\\Anaconda\\lib\\site-packages\\sklearn\\utils\\deprecation.py:87: FutureWarning: Function plot_confusion_matrix is deprecated; Function `plot_confusion_matrix` is deprecated in 1.0 and will be removed in 1.2. Use one of the class methods: ConfusionMatrixDisplay.from_predictions or ConfusionMatrixDisplay.from_estimator.\n",
      "  warnings.warn(msg, category=FutureWarning)\n"
     ]
    },
    {
     "data": {
      "text/plain": [
       "<sklearn.metrics._plot.confusion_matrix.ConfusionMatrixDisplay at 0x1ac09243610>"
      ]
     },
     "execution_count": 44,
     "metadata": {},
     "output_type": "execute_result"
    },
    {
     "data": {
      "image/png": "[encoded data removed]",
      "text/plain": [
       "<Figure size 640x480 with 2 Axes>"
      ]
     },
     "metadata": {},
     "output_type": "display_data"
    }
   ],
   "source": [
    "### Final test O/P Confusion matrix\n",
    "print(\"Plot for the Confusion metrics\")\n",
    "plot_confusion_matrix(search.best_estimator_,X_test,y_test)"
   ]
  },
  {
   "cell_type": "code",
   "execution_count": 45,
   "id": "601b5351-aa49-4afe-bdc4-fd0165ee18db",
   "metadata": {},
   "outputs": [
    {
     "name": "stderr",
     "output_type": "stream",
     "text": [
      "C:\\Anaconda\\lib\\site-packages\\sklearn\\utils\\deprecation.py:87: FutureWarning: Function plot_roc_curve is deprecated; Function :func:`plot_roc_curve` is deprecated in 1.0 and will be removed in 1.2. Use one of the class methods: :meth:`sklearn.metrics.RocCurveDisplay.from_predictions` or :meth:`sklearn.metrics.RocCurveDisplay.from_estimator`.\n",
      "  warnings.warn(msg, category=FutureWarning)\n"
     ]
    },
    {
     "data": {
      "text/plain": [
       "<sklearn.metrics._plot.roc_curve.RocCurveDisplay at 0x1ac22bf4130>"
      ]
     },
     "execution_count": 45,
     "metadata": {},
     "output_type": "execute_result"
    },
    {
     "data": {
      "image/png": "[encoded data removed]",
      "text/plain": [
       "<Figure size 640x480 with 1 Axes>"
      ]
     },
     "metadata": {},
     "output_type": "display_data"
    }
   ],
   "source": [
    "### Final test on the ROC-AUC curve\n",
    "plot_roc_curve(search.best_estimator_,X_test,y_test)"
   ]
  },
  {
   "cell_type": "markdown",
   "id": "4fc62242-9b2e-4fea-89a3-4e99fa6739e6",
   "metadata": {},
   "source": [
    "##### Inference:\n",
    "1. This base Decision Tree model, with entropy formula works greatly when seen in the following data points.\n",
    "2. Good fit with very minimal FP/FN\n",
    "3. ROC curve also looks handsomely good with good stability."
   ]
  },
  {
   "cell_type": "code",
   "execution_count": null,
   "id": "358cd413-39f3-4f33-9ce5-501bb3772e77",
   "metadata": {},
   "outputs": [],
   "source": []
  },
  {
   "cell_type": "markdown",
   "id": "1dd1bcf5-fd15-45b6-a081-be8903528f7e",
   "metadata": {},
   "source": [
    "## Step-5 : Saving the models for future use."
   ]
  },
  {
   "cell_type": "code",
   "execution_count": 46,
   "id": "7c9251dc-789d-42f9-a9c9-2a042afd8ce4",
   "metadata": {},
   "outputs": [
    {
     "data": {
      "text/plain": [
       "['../../models/lencoder.h5']"
      ]
     },
     "execution_count": 46,
     "metadata": {},
     "output_type": "execute_result"
    }
   ],
   "source": [
    "## Saving our encoder\n",
    "file_path = \"../../models/lencoder.h5\"\n",
    "jb.dump(encoder,file_path)"
   ]
  },
  {
   "cell_type": "code",
   "execution_count": 47,
   "id": "b30f21af-970d-4718-b59b-9e7c02d1ebee",
   "metadata": {},
   "outputs": [
    {
     "data": {
      "text/plain": [
       "['../../models/mortality_model.h5']"
      ]
     },
     "execution_count": 47,
     "metadata": {},
     "output_type": "execute_result"
    }
   ],
   "source": [
    "## saving our decision tree models\n",
    "file_path = \"../../models/mortality_model.h5\"\n",
    "jb.dump(search.best_estimator_,file_path)"
   ]
  },
  {
   "cell_type": "code",
   "execution_count": null,
   "id": "65e5a33c-86cb-4076-9815-f388514ed32b",
   "metadata": {},
   "outputs": [],
   "source": []
  },
  {
   "cell_type": "markdown",
   "id": "70005d3d-5922-4472-bce4-8d5ec5334d66",
   "metadata": {},
   "source": [
    "## Step-6 : Checking for Feature Importances"
   ]
  },
  {
   "cell_type": "code",
   "execution_count": 48,
   "id": "e2b72270-bdb1-4de9-8fbd-fdbbba72618a",
   "metadata": {},
   "outputs": [],
   "source": [
    "perm_feat_imp = permutation_importance(search.best_estimator_, X_test, y_test,n_repeats=30,random_state=0)"
   ]
  },
  {
   "cell_type": "code",
   "execution_count": 49,
   "id": "02484106-4729-4a21-9ba2-d05db0db5501",
   "metadata": {},
   "outputs": [
    {
     "data": {
      "text/plain": [
       "<AxesSubplot:title={'center':'::: Decision Tree Model Feature Importance :::'}>"
      ]
     },
     "execution_count": 49,
     "metadata": {},
     "output_type": "execute_result"
    },
    {
     "data": {
      "image/png": "[encoded data removed]",
      "text/plain": [
       "<Figure size 800x500 with 1 Axes>"
      ]
     },
     "metadata": {},
     "output_type": "display_data"
    }
   ],
   "source": [
    "plt.figure(figsize=(8,5))\n",
    "plt.title(\"::: Decision Tree Model Feature Importance :::\")\n",
    "sns.barplot(x=perm_feat_imp.importances_mean,y=X_test.columns)"
   ]
  },
  {
   "cell_type": "markdown",
   "id": "6fe5a736-7467-4fee-b5d5-6f950bab5e55",
   "metadata": {},
   "source": [
    "## Step-6 : Revisiting the Whole workflow"
   ]
  },
  {
   "cell_type": "markdown",
   "id": "e470fde4-e298-433f-bd70-93830a758b8b",
   "metadata": {},
   "source": [
    "1. Loading the data to see the whole data information. (df.info())\n",
    "2. Since the column names where extremely unhygenic, we used skimpy to clean up the columns in a much standardized way.\n",
    "3. Use Pandas profiling to create a historical data report w/ distributions and pre-checks.\n",
    "4. We use the report to deduce the initial inferences ==> such as massive imbalances and correlations.\n",
    "5. Feature Selection/Validation using Correlation plot on the X's and Recursive Feature Elimination (RFE) to figure out the variable that are pre-necessary, and encoded using a label encoder.\n",
    "6. Split the data into Train & Test and start building the model, we have built a model w/ multiple hypertuning procedures.\n",
    "7. All the models are saved out for future reference.\n",
    "8. Checked out the permutation feature importance to see the actual distribution of the features and we see many un-necessary features."
   ]
  },
  {
   "cell_type": "code",
   "execution_count": null,
   "id": "6170b834-c6e3-40dd-b7be-16f044421842",
   "metadata": {},
   "outputs": [],
   "source": []
  },
  {
   "cell_type": "code",
   "execution_count": null,
   "id": "b1d2b57c-a3ac-4177-bcbd-19932ada8e99",
   "metadata": {},
   "outputs": [],
   "source": []
  }
 ],
 "metadata": {
  "kernelspec": {
   "display_name": "Python 3 (ipykernel)",
   "language": "python",
   "name": "python3"
  },
  "language_info": {
   "codemirror_mode": {
    "name": "ipython",
    "version": 3
   },
   "file_extension": ".py",
   "mimetype": "text/x-python",
   "name": "python",
   "nbconvert_exporter": "python",
   "pygments_lexer": "ipython3",
   "version": "3.9.13"
  }
 },
 "nbformat": 4,
 "nbformat_minor": 5
}
